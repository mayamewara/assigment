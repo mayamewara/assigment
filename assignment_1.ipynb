{
 "cells": [
  {
   "cell_type": "markdown",
   "id": "c3af4777-3eeb-44eb-a9db-2a4b203df842",
   "metadata": {},
   "source": [
    "Q 1."
   ]
  },
  {
   "cell_type": "markdown",
   "id": "21962669-2a40-4b5d-abb5-fd3543d078b2",
   "metadata": {},
   "source": [
    " A for loop is used when you know exactly how many times you need to repeat a block of code "
   ]
  },
  {
   "cell_type": "code",
   "execution_count": 11,
   "id": "32a3f9c0-d32b-4845-be40-4d6190e4b3b1",
   "metadata": {},
   "outputs": [
    {
     "name": "stdout",
     "output_type": "stream",
     "text": [
      "0\n",
      "1\n",
      "2\n",
      "3\n",
      "4\n"
     ]
    }
   ],
   "source": [
    "for i in range(0,5):\n",
    "    print(i)"
   ]
  },
  {
   "cell_type": "markdown",
   "id": "4896b77a-488c-477d-a02d-e8538b5f9641",
   "metadata": {},
   "source": [
    "A while loop is used when you don't know how many times you need to repeat a block of code but you do know the condition that needs to be met in order to stop the loop\n"
   ]
  },
  {
   "cell_type": "code",
   "execution_count": 9,
   "id": "632c02ee-785f-43f5-a20c-9c8fee1fccee",
   "metadata": {},
   "outputs": [
    {
     "name": "stdout",
     "output_type": "stream",
     "text": [
      "0\n",
      "1\n",
      "2\n",
      "3\n",
      "4\n"
     ]
    }
   ],
   "source": [
    "i = 0\n",
    "while i <= 4 :\n",
    "    print(i)\n",
    "    i = i+1\n",
    "    "
   ]
  },
  {
   "cell_type": "markdown",
   "id": "9603c737-b041-41c3-abb6-71ee87aab48c",
   "metadata": {},
   "source": [
    "Q 2. For loop\n"
   ]
  },
  {
   "cell_type": "code",
   "execution_count": 22,
   "id": "6adc8405-db0f-4c42-af8e-aac327b7790b",
   "metadata": {},
   "outputs": [
    {
     "name": "stdout",
     "output_type": "stream",
     "text": [
      "sum of first 10 number 55\n",
      "product of first 10 natural number 3628800\n"
     ]
    }
   ],
   "source": [
    "# l = [1,2,3,4,5,6,7,8,9,10]\n",
    "sum = 0\n",
    "product = 1\n",
    "for i in range(1,11):\n",
    "    sum = sum+i\n",
    "    product = product*i\n",
    "print(\"sum of first 10 number\", sum)\n",
    "print(\"product of first 10 natural number\",product)\n",
    "\n",
    "        \n",
    "        \n",
    "    "
   ]
  },
  {
   "cell_type": "markdown",
   "id": "185e583d-9dce-4bb7-9114-9bdf09a83085",
   "metadata": {},
   "source": [
    "sum by while loop\n"
   ]
  },
  {
   "cell_type": "code",
   "execution_count": 17,
   "id": "1ee281b6-c981-4809-b16d-6a42236d1a0d",
   "metadata": {},
   "outputs": [
    {
     "name": "stdin",
     "output_type": "stream",
     "text": [
      "enter the number 10\n"
     ]
    },
    {
     "name": "stdout",
     "output_type": "stream",
     "text": [
      "sum of first 10 natural number: 55\n",
      "product of first 10 natural number 3628800\n"
     ]
    }
   ],
   "source": [
    "n = int(input(\"enter the number\" ))\n",
    "sum = 0\n",
    "product = 1\n",
    "i = 1\n",
    "while i <= n:\n",
    "    sum = sum+i\n",
    "    product = product*i\n",
    "    i = i+1\n",
    "print(\"sum of first 10 natural number:\",sum)\n",
    "print(\"product of first 10 natural number\",product)\n",
    "    \n",
    "    "
   ]
  },
  {
   "cell_type": "markdown",
   "id": "033c965a-4f84-40f6-9d54-02afc09cd3d6",
   "metadata": {},
   "source": [
    "3.compute the electricity bill for a household"
   ]
  },
  {
   "cell_type": "code",
   "execution_count": 3,
   "id": "d0040d5e-764c-491f-9ad6-9f907516ad2b",
   "metadata": {},
   "outputs": [
    {
     "name": "stdin",
     "output_type": "stream",
     "text": [
      "enter the unit 310\n"
     ]
    },
    {
     "name": "stdout",
     "output_type": "stream",
     "text": [
      "total electricity bill  2250.0\n"
     ]
    }
   ],
   "source": [
    "units = int(input(\"enter the unit\" ))\n",
    "if units <= 100:\n",
    "    charge = units*4.5\n",
    "elif units <= 200:\n",
    "    charge = (100*4.5)+((units-100)*6)\n",
    "elif units <= 300:\n",
    "    charge = (100*4.5)+(100*6)+((units-200)*10)\n",
    "else:\n",
    "    charge = (100*4.5)+(100*6)+(100*10)+((units - 300)*20)\n",
    "    print(\"total electricity bill \", charge)\n",
    "    \n",
    "    "
   ]
  },
  {
   "cell_type": "markdown",
   "id": "298bb972-afec-4287-afe7-1c7d2215ec58",
   "metadata": {},
   "source": [
    "4.calculate the cube of each number"
   ]
  },
  {
   "cell_type": "code",
   "execution_count": 8,
   "id": "b892714f-bc74-43cb-b6c3-2739682d93ea",
   "metadata": {},
   "outputs": [
    {
     "name": "stdout",
     "output_type": "stream",
     "text": [
      "[2, 4, 5, 6, 8, 10, 12, 14, 15, 16, 18, 20, 22, 24, 25, 26, 28, 30, 32, 34, 35, 36, 38, 40, 42, 44, 45, 46, 48, 50, 52, 54, 55, 56, 58, 60, 62, 64, 65, 66, 68, 70, 72, 74, 75, 76, 78, 80, 82, 84, 85, 86, 88, 90, 92, 94, 95, 96, 98, 100]\n"
     ]
    }
   ],
   "source": [
    "cubes_divisible_list = []\n",
    "for i in range(1,101):\n",
    "    cube = i ** 3\n",
    "    if cube % 4 == 0 or cube % 5 == 0 :\n",
    "        cubes_divisible_list.append(i)\n",
    "\n",
    "print(cubes_divisible_list)\n",
    "     \n",
    "    \n",
    "\n",
    "\n",
    "\n",
    "    \n",
    "    \n",
    "    \n",
    "    "
   ]
  },
  {
   "cell_type": "code",
   "execution_count": 11,
   "id": "7633efad-30ef-4ccd-be1f-63c78a567f5f",
   "metadata": {},
   "outputs": [
    {
     "name": "stdout",
     "output_type": "stream",
     "text": [
      "[2, 4, 5, 6, 8, 10, 12, 14, 15, 16, 18, 20, 22, 24, 25, 26, 28, 30, 32, 34, 35, 36, 38, 40, 42, 44, 45, 46, 48, 50, 52, 54, 55, 56, 58, 60, 62, 64, 65, 66, 68, 70, 72, 74, 75, 76, 78, 80, 82, 84, 85, 86, 88, 90, 92, 94, 95, 96, 98, 100]\n"
     ]
    }
   ],
   "source": [
    "cube_divisible_list =[]\n",
    "i = 1\n",
    "while i<=100:\n",
    "    cube = i*i*i\n",
    "    if cube % 4 == 0 or cube % 5 == 0:\n",
    "        cube_divisible_list.append(i)\n",
    "    i = i+1\n",
    "print(cube_divisible_list)\n",
    "\n",
    "\n",
    "    "
   ]
  },
  {
   "cell_type": "markdown",
   "id": "55d66849-12e2-47e3-9115-2dd20638796b",
   "metadata": {},
   "source": [
    "Q.5 filter count vowels\n"
   ]
  },
  {
   "cell_type": "code",
   "execution_count": 6,
   "id": "6385619f-d32b-404e-9d5f-08636ea143b6",
   "metadata": {},
   "outputs": [
    {
     "name": "stdout",
     "output_type": "stream",
     "text": [
      "the number of vowels in string 12\n"
     ]
    }
   ],
   "source": [
    "string = \"i want to become a data scientist\"\n",
    "vowels = \"aeiou\"\n",
    "count = 0\n",
    "for i in string:\n",
    "    if i in vowels:\n",
    "        count = count+1\n",
    "print(\"the number of vowels in string\",count )\n",
    "        \n",
    "        \n",
    "    \n",
    "    \n",
    "    \n"
   ]
  }
 ],
 "metadata": {
  "kernelspec": {
   "display_name": "Python 3 (ipykernel)",
   "language": "python",
   "name": "python3"
  },
  "language_info": {
   "codemirror_mode": {
    "name": "ipython",
    "version": 3
   },
   "file_extension": ".py",
   "mimetype": "text/x-python",
   "name": "python",
   "nbconvert_exporter": "python",
   "pygments_lexer": "ipython3",
   "version": "3.10.8"
  }
 },
 "nbformat": 4,
 "nbformat_minor": 5
}
